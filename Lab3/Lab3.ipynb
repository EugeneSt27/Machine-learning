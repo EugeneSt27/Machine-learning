{
 "cells": [
  {
   "cell_type": "code",
   "execution_count": 1,
   "id": "4c900e43",
   "metadata": {},
   "outputs": [],
   "source": [
    "import pandas as pd\n",
    "import numpy as np\n",
    "import seaborn as sns\n",
    "import matplotlib\n",
    "import matplotlib.pyplot as plt\n",
    "from sklearn.model_selection import train_test_split\n",
    "from scipy.stats import spearmanr, kstest, mannwhitneyu, ttest_ind, levene, kruskal\n",
    "from sklearn.preprocessing import StandardScaler"
   ]
  },
  {
   "cell_type": "code",
   "execution_count": 2,
   "id": "3de3270d",
   "metadata": {},
   "outputs": [],
   "source": [
    "from sklearn.metrics import confusion_matrix, accuracy_score, precision_score, recall_score, f1_score, auc, classification_report\n",
    "from sklearn.utils import shuffle\n",
    "from sklearn.metrics import RocCurveDisplay, roc_curve, roc_auc_score\n",
    "from sklearn.inspection import DecisionBoundaryDisplay"
   ]
  },
  {
   "cell_type": "code",
   "execution_count": 3,
   "id": "e081e4a1",
   "metadata": {},
   "outputs": [],
   "source": [
    "from sklearn.tree import DecisionTreeClassifier\n",
    "from sklearn import tree\n",
    "from sklearn.ensemble import RandomForestClassifier\n",
    "import xgboost as xgb"
   ]
  },
  {
   "cell_type": "markdown",
   "id": "f002ad70",
   "metadata": {},
   "source": [
    "# Анализ и предобработка данных"
   ]
  },
  {
   "cell_type": "code",
   "execution_count": 4,
   "id": "c08ef040",
   "metadata": {},
   "outputs": [],
   "source": [
    "df = pd.read_csv('credit_scoring.csv')\n",
    "df.drop('client_id', axis=1, inplace = True)"
   ]
  },
  {
   "cell_type": "code",
   "execution_count": 5,
   "id": "e1c1d845",
   "metadata": {},
   "outputs": [],
   "source": [
    "df['Delinquent90'] = df['Delinquent90'].astype(bool)"
   ]
  },
  {
   "cell_type": "code",
   "execution_count": 6,
   "id": "bed19d63",
   "metadata": {},
   "outputs": [
    {
     "data": {
      "text/plain": [
       "(75000, 10)"
      ]
     },
     "execution_count": 6,
     "metadata": {},
     "output_type": "execute_result"
    }
   ],
   "source": [
    "df.shape"
   ]
  },
  {
   "cell_type": "code",
   "execution_count": 7,
   "id": "fda82415",
   "metadata": {},
   "outputs": [
    {
     "data": {
      "text/plain": [
       "17"
      ]
     },
     "execution_count": 7,
     "metadata": {},
     "output_type": "execute_result"
    }
   ],
   "source": [
    "df.duplicated().sum()"
   ]
  },
  {
   "cell_type": "code",
   "execution_count": 8,
   "id": "fbf89949",
   "metadata": {},
   "outputs": [],
   "source": [
    "df = df.drop_duplicates()"
   ]
  },
  {
   "cell_type": "code",
   "execution_count": 9,
   "id": "1a89e709",
   "metadata": {},
   "outputs": [
    {
     "data": {
      "text/plain": [
       "DIR                          0\n",
       "Age                          0\n",
       "NumLoans                     0\n",
       "NumRealEstateLoans           0\n",
       "NumDependents             1914\n",
       "Num30-59Delinquencies        0\n",
       "Num60-89Delinquencies        0\n",
       "Income                   14831\n",
       "BalanceToCreditLimit         0\n",
       "Delinquent90                 0\n",
       "dtype: int64"
      ]
     },
     "execution_count": 9,
     "metadata": {},
     "output_type": "execute_result"
    }
   ],
   "source": [
    "df.isna().sum()"
   ]
  },
  {
   "cell_type": "markdown",
   "id": "dbe56aa5",
   "metadata": {},
   "source": [
    "Пропуски в признаках \"NumDependents\" и \"Income\" "
   ]
  },
  {
   "cell_type": "code",
   "execution_count": 10,
   "id": "e75b6ccf",
   "metadata": {},
   "outputs": [
    {
     "data": {
      "text/html": [
       "<div>\n",
       "<style scoped>\n",
       "    .dataframe tbody tr th:only-of-type {\n",
       "        vertical-align: middle;\n",
       "    }\n",
       "\n",
       "    .dataframe tbody tr th {\n",
       "        vertical-align: top;\n",
       "    }\n",
       "\n",
       "    .dataframe thead th {\n",
       "        text-align: right;\n",
       "    }\n",
       "</style>\n",
       "<table border=\"1\" class=\"dataframe\">\n",
       "  <thead>\n",
       "    <tr style=\"text-align: right;\">\n",
       "      <th></th>\n",
       "      <th>DIR</th>\n",
       "      <th>Age</th>\n",
       "      <th>NumLoans</th>\n",
       "      <th>NumRealEstateLoans</th>\n",
       "      <th>NumDependents</th>\n",
       "      <th>Num30-59Delinquencies</th>\n",
       "      <th>Num60-89Delinquencies</th>\n",
       "      <th>Income</th>\n",
       "      <th>BalanceToCreditLimit</th>\n",
       "    </tr>\n",
       "  </thead>\n",
       "  <tbody>\n",
       "    <tr>\n",
       "      <th>count</th>\n",
       "      <td>74983.000000</td>\n",
       "      <td>74983.000000</td>\n",
       "      <td>74983.000000</td>\n",
       "      <td>74983.000000</td>\n",
       "      <td>73069.000000</td>\n",
       "      <td>74983.000000</td>\n",
       "      <td>74983.000000</td>\n",
       "      <td>6.015200e+04</td>\n",
       "      <td>74983.000000</td>\n",
       "    </tr>\n",
       "    <tr>\n",
       "      <th>mean</th>\n",
       "      <td>353.340383</td>\n",
       "      <td>52.594744</td>\n",
       "      <td>8.451276</td>\n",
       "      <td>1.016924</td>\n",
       "      <td>0.756121</td>\n",
       "      <td>0.428417</td>\n",
       "      <td>0.248056</td>\n",
       "      <td>6.740171e+03</td>\n",
       "      <td>6.277619</td>\n",
       "    </tr>\n",
       "    <tr>\n",
       "      <th>std</th>\n",
       "      <td>2117.470748</td>\n",
       "      <td>14.867025</td>\n",
       "      <td>5.156017</td>\n",
       "      <td>1.124042</td>\n",
       "      <td>1.108180</td>\n",
       "      <td>4.276919</td>\n",
       "      <td>4.239965</td>\n",
       "      <td>1.422885e+04</td>\n",
       "      <td>267.773654</td>\n",
       "    </tr>\n",
       "    <tr>\n",
       "      <th>min</th>\n",
       "      <td>0.000000</td>\n",
       "      <td>21.000000</td>\n",
       "      <td>0.000000</td>\n",
       "      <td>0.000000</td>\n",
       "      <td>0.000000</td>\n",
       "      <td>0.000000</td>\n",
       "      <td>0.000000</td>\n",
       "      <td>0.000000e+00</td>\n",
       "      <td>0.000000</td>\n",
       "    </tr>\n",
       "    <tr>\n",
       "      <th>25%</th>\n",
       "      <td>0.176160</td>\n",
       "      <td>41.300000</td>\n",
       "      <td>5.000000</td>\n",
       "      <td>0.000000</td>\n",
       "      <td>0.000000</td>\n",
       "      <td>0.000000</td>\n",
       "      <td>0.000000</td>\n",
       "      <td>3.421364e+03</td>\n",
       "      <td>0.029748</td>\n",
       "    </tr>\n",
       "    <tr>\n",
       "      <th>50%</th>\n",
       "      <td>0.366924</td>\n",
       "      <td>52.200000</td>\n",
       "      <td>8.000000</td>\n",
       "      <td>1.000000</td>\n",
       "      <td>0.000000</td>\n",
       "      <td>0.000000</td>\n",
       "      <td>0.000000</td>\n",
       "      <td>5.424589e+03</td>\n",
       "      <td>0.153859</td>\n",
       "    </tr>\n",
       "    <tr>\n",
       "      <th>75%</th>\n",
       "      <td>0.863070</td>\n",
       "      <td>63.100000</td>\n",
       "      <td>11.000000</td>\n",
       "      <td>2.000000</td>\n",
       "      <td>1.000000</td>\n",
       "      <td>0.000000</td>\n",
       "      <td>0.000000</td>\n",
       "      <td>8.291619e+03</td>\n",
       "      <td>0.560731</td>\n",
       "    </tr>\n",
       "    <tr>\n",
       "      <th>max</th>\n",
       "      <td>332600.272820</td>\n",
       "      <td>109.800000</td>\n",
       "      <td>56.000000</td>\n",
       "      <td>32.000000</td>\n",
       "      <td>20.000000</td>\n",
       "      <td>98.000000</td>\n",
       "      <td>98.000000</td>\n",
       "      <td>1.805573e+06</td>\n",
       "      <td>50873.874533</td>\n",
       "    </tr>\n",
       "  </tbody>\n",
       "</table>\n",
       "</div>"
      ],
      "text/plain": [
       "                 DIR           Age      NumLoans  NumRealEstateLoans  \\\n",
       "count   74983.000000  74983.000000  74983.000000        74983.000000   \n",
       "mean      353.340383     52.594744      8.451276            1.016924   \n",
       "std      2117.470748     14.867025      5.156017            1.124042   \n",
       "min         0.000000     21.000000      0.000000            0.000000   \n",
       "25%         0.176160     41.300000      5.000000            0.000000   \n",
       "50%         0.366924     52.200000      8.000000            1.000000   \n",
       "75%         0.863070     63.100000     11.000000            2.000000   \n",
       "max    332600.272820    109.800000     56.000000           32.000000   \n",
       "\n",
       "       NumDependents  Num30-59Delinquencies  Num60-89Delinquencies  \\\n",
       "count   73069.000000           74983.000000           74983.000000   \n",
       "mean        0.756121               0.428417               0.248056   \n",
       "std         1.108180               4.276919               4.239965   \n",
       "min         0.000000               0.000000               0.000000   \n",
       "25%         0.000000               0.000000               0.000000   \n",
       "50%         0.000000               0.000000               0.000000   \n",
       "75%         1.000000               0.000000               0.000000   \n",
       "max        20.000000              98.000000              98.000000   \n",
       "\n",
       "             Income  BalanceToCreditLimit  \n",
       "count  6.015200e+04          74983.000000  \n",
       "mean   6.740171e+03              6.277619  \n",
       "std    1.422885e+04            267.773654  \n",
       "min    0.000000e+00              0.000000  \n",
       "25%    3.421364e+03              0.029748  \n",
       "50%    5.424589e+03              0.153859  \n",
       "75%    8.291619e+03              0.560731  \n",
       "max    1.805573e+06          50873.874533  "
      ]
     },
     "execution_count": 10,
     "metadata": {},
     "output_type": "execute_result"
    }
   ],
   "source": [
    "df.describe()"
   ]
  },
  {
   "cell_type": "code",
   "execution_count": 16,
   "id": "ff94b53c",
   "metadata": {},
   "outputs": [
    {
     "data": {
      "text/plain": [
       "<Axes: xlabel='Age', ylabel='Count'>"
      ]
     },
     "execution_count": 16,
     "metadata": {},
     "output_type": "execute_result"
    },
    {
     "data": {
      "image/png": "[encoded data removed]",
      "text/plain": [
       "<Figure size 640x480 with 1 Axes>"
      ]
     },
     "metadata": {},
     "output_type": "display_data"
    }
   ],
   "source": [
    "sns.histplot(data=df, x=factors[1], color='#9939d6', bins = 50)"
   ]
  },
  {
   "cell_type": "code",
   "execution_count": 11,
   "id": "c1847789",
   "metadata": {},
   "outputs": [],
   "source": [
    "factors = list(df.columns)"
   ]
  },
  {
   "cell_type": "markdown",
   "id": "fd948802",
   "metadata": {},
   "source": [
    "k = 0\n",
    "m = 3\n",
    "fig, axes = plt.subplots(m, m, figsize=(24, 22))\n",
    "\n",
    "for i, ax in enumerate(axes.flat):\n",
    "    if i >= len(factors):\n",
    "        break\n",
    "    sns.histplot(ax=ax, data=df, y=factors[i], color='#9939d6')\n",
    "    ax.set_ylabel('Количество наблюдений', fontsize=12)\n",
    "    if i >= m * (m - 1):  # Set x-label only for the bottom row\n",
    "        ax.set_xlabel(factors[i], fontsize=12)\n",
    "\n",
    "plt.tight_layout()\n",
    "plt.show()"
   ]
  },
  {
   "cell_type": "code",
   "execution_count": null,
   "id": "aebbeeba",
   "metadata": {},
   "outputs": [],
   "source": []
  }
 ],
 "metadata": {
  "kernelspec": {
   "display_name": "Python 3 (ipykernel)",
   "language": "python",
   "name": "python3"
  },
  "language_info": {
   "codemirror_mode": {
    "name": "ipython",
    "version": 3
   },
   "file_extension": ".py",
   "mimetype": "text/x-python",
   "name": "python",
   "nbconvert_exporter": "python",
   "pygments_lexer": "ipython3",
   "version": "3.11.4"
  }
 },
 "nbformat": 4,
 "nbformat_minor": 5
}
